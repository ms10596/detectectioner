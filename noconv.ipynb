{
 "cells": [
  {
   "cell_type": "markdown",
   "metadata": {},
   "source": [
    "# Face detection application using neural network and Keras"
   ]
  },
  {
   "cell_type": "markdown",
   "metadata": {},
   "source": [
    "- First we import our packages"
   ]
  },
  {
   "cell_type": "code",
   "execution_count": 15,
   "metadata": {},
   "outputs": [],
   "source": [
    "import matplotlib.pyplot as plt\n",
    "from keras.utils.np_utils import to_categorical\n",
    "import tensorflow as tf\n",
    "from load import load\n",
    "import numpy as np\n",
    "%matplotlib inline"
   ]
  },
  {
   "cell_type": "markdown",
   "metadata": {},
   "source": [
    "- Loading our dataset"
   ]
  },
  {
   "cell_type": "code",
   "execution_count": 16,
   "metadata": {},
   "outputs": [
    {
     "name": "stdout",
     "output_type": "stream",
     "text": [
      "('ashraf', 'joseph', 'magdy', 'ref', 'sayed', 'Shehab')\n",
      "(1320, 48, 48, 3)\n",
      "(1320, 1)\n",
      "[0]\n",
      "(330, 48, 48, 3)\n",
      "(330, 1)\n"
     ]
    }
   ],
   "source": [
    "x_train, y_train, x_test, y_test, classes = load()\n",
    "print(classes)\n",
    "print(x_train.shape)\n",
    "print(y_train.shape)\n",
    "print(y_train[0])\n",
    "print(x_test.shape)\n",
    "print(y_test.shape)"
   ]
  },
  {
   "cell_type": "markdown",
   "metadata": {},
   "source": [
    "- Making sure that photos have arrived safely"
   ]
  },
  {
   "cell_type": "code",
   "execution_count": 17,
   "metadata": {},
   "outputs": [
    {
     "name": "stdout",
     "output_type": "stream",
     "text": [
      "(48, 48, 3)\n"
     ]
    },
    {
     "data": {
      "image/png": "[encoded data removed]",
      "text/plain": [
       "<Figure size 432x288 with 1 Axes>"
      ]
     },
     "metadata": {
      "needs_background": "light"
     },
     "output_type": "display_data"
    }
   ],
   "source": [
    "index = 55\n",
    "print(x_train[index].shape)\n",
    "plt.imshow((x_train[index]).astype(np.uint8))\n",
    "plt.show()"
   ]
  },
  {
   "cell_type": "markdown",
   "metadata": {},
   "source": [
    "- Normalizing data"
   ]
  },
  {
   "cell_type": "code",
   "execution_count": 18,
   "metadata": {},
   "outputs": [],
   "source": [
    "x_train = x_train / 255\n",
    "x_test = x_test / 255"
   ]
  },
  {
   "cell_type": "markdown",
   "metadata": {},
   "source": [
    "- Applying one hot encoding <br>\n",
    "In a brief one hot encoding is converting category which is a number in our case \n",
    "refers to the persons name to something like identity array."
   ]
  },
  {
   "cell_type": "code",
   "execution_count": 25,
   "metadata": {},
   "outputs": [
    {
     "name": "stdout",
     "output_type": "stream",
     "text": [
      "(1320, 6)\n",
      "(330, 6)\n",
      "[0]\n",
      "[1. 0. 0. 0. 0. 0.]\n"
     ]
    }
   ],
   "source": [
    "y_train_hot = to_categorical(y_train, num_classes=6)\n",
    "y_test_hot = to_categorical(y_test, num_classes=6)\n",
    "print(y_train_hot.shape)\n",
    "print(y_test_hot.shape)\n",
    "print(y_train[0])\n",
    "print(y_train_hot[0])"
   ]
  },
  {
   "cell_type": "markdown",
   "metadata": {},
   "source": [
    "- Building our model"
   ]
  },
  {
   "cell_type": "code",
   "execution_count": 26,
   "metadata": {},
   "outputs": [],
   "source": [
    "model = tf.keras.models.Sequential([\n",
    "    tf.keras.layers.Flatten(name='first'),\n",
    "    tf.keras.layers.Dense(6912, activation=tf.nn.tanh, name='second'),\n",
    "\n",
    "    tf.keras.layers.Dense(3456, activation=tf.nn.tanh, name='third'),\n",
    "    tf.keras.layers.Dense(1728, activation=tf.nn.tanh, name='fourth'),\n",
    "    tf.keras.layers.Dense(864, activation=tf.nn.tanh, name='fifth'),\n",
    "    tf.keras.layers.Dense(432, activation=tf.nn.tanh, name='sixth'),\n",
    "    tf.keras.layers.Dense(6, activation=tf.nn.softmax, name='seventh')\n",
    "])\n"
   ]
  },
  {
   "cell_type": "markdown",
   "metadata": {},
   "source": [
    "- Compiling our model"
   ]
  },
  {
   "cell_type": "code",
   "execution_count": 27,
   "metadata": {},
   "outputs": [],
   "source": [
    "model.compile(optimizer='sgd', loss='categorical_crossentropy', metrics=['accuracy'])\n"
   ]
  },
  {
   "cell_type": "markdown",
   "metadata": {},
   "source": [
    "- Training our model on training data"
   ]
  },
  {
   "cell_type": "code",
   "execution_count": 30,
   "metadata": {},
   "outputs": [
    {
     "name": "stdout",
     "output_type": "stream",
     "text": [
      "Epoch 1/20\n",
      "1320/1320 [==============================] - 13s 10ms/step - loss: 2.3182 - acc: 0.2265\n",
      "Epoch 2/20\n",
      "1320/1320 [==============================] - 11s 8ms/step - loss: 1.7056 - acc: 0.2644\n",
      "Epoch 3/20\n",
      "1320/1320 [==============================] - 11s 9ms/step - loss: 1.5466 - acc: 0.3621\n",
      "Epoch 4/20\n",
      "1320/1320 [==============================] - 12s 9ms/step - loss: 1.5012 - acc: 0.4386\n",
      "Epoch 5/20\n",
      "1320/1320 [==============================] - 12s 9ms/step - loss: 1.5252 - acc: 0.4114\n",
      "Epoch 6/20\n",
      "1320/1320 [==============================] - 11s 9ms/step - loss: 1.4116 - acc: 0.4780\n",
      "Epoch 7/20\n",
      "1320/1320 [==============================] - 11s 9ms/step - loss: 1.3096 - acc: 0.5280\n",
      "Epoch 8/20\n",
      "1320/1320 [==============================] - 12s 9ms/step - loss: 1.3556 - acc: 0.4811\n",
      "Epoch 9/20\n",
      "1320/1320 [==============================] - 11s 9ms/step - loss: 1.1410 - acc: 0.5689\n",
      "Epoch 10/20\n",
      "1320/1320 [==============================] - 11s 8ms/step - loss: 1.1772 - acc: 0.5697\n",
      "Epoch 11/20\n",
      "1320/1320 [==============================] - 11s 8ms/step - loss: 1.1465 - acc: 0.5856\n",
      "Epoch 12/20\n",
      "1320/1320 [==============================] - 11s 8ms/step - loss: 1.1291 - acc: 0.5750\n",
      "Epoch 13/20\n",
      "1320/1320 [==============================] - 11s 9ms/step - loss: 1.0593 - acc: 0.6189\n",
      "Epoch 14/20\n",
      "1320/1320 [==============================] - 11s 8ms/step - loss: 0.9338 - acc: 0.6750\n",
      "Epoch 15/20\n",
      "1320/1320 [==============================] - 11s 9ms/step - loss: 1.0325 - acc: 0.6386\n",
      "Epoch 16/20\n",
      "1320/1320 [==============================] - 11s 8ms/step - loss: 0.9211 - acc: 0.6788\n",
      "Epoch 17/20\n",
      "1320/1320 [==============================] - 11s 8ms/step - loss: 0.8936 - acc: 0.6758\n",
      "Epoch 18/20\n",
      "1320/1320 [==============================] - 11s 9ms/step - loss: 0.8651 - acc: 0.7068\n",
      "Epoch 19/20\n",
      "1320/1320 [==============================] - 11s 8ms/step - loss: 0.9246 - acc: 0.6689\n",
      "Epoch 20/20\n",
      "1320/1320 [==============================] - 11s 9ms/step - loss: 0.7690 - acc: 0.7227\n"
     ]
    },
    {
     "data": {
      "text/plain": [
       "<tensorflow.python.keras.callbacks.History at 0x7fd74d9fa128>"
      ]
     },
     "execution_count": 30,
     "metadata": {},
     "output_type": "execute_result"
    }
   ],
   "source": [
    "model.fit(x_train, y_train_hot, epochs=20, batch_size=50)\n"
   ]
  },
  {
   "cell_type": "markdown",
   "metadata": {},
   "source": [
    "- Testing our model"
   ]
  },
  {
   "cell_type": "code",
   "execution_count": 32,
   "metadata": {},
   "outputs": [
    {
     "name": "stdout",
     "output_type": "stream",
     "text": [
      "330/330 [==============================] - 1s 3ms/step\n",
      "accuracy: 0.5848484852097251\n"
     ]
    }
   ],
   "source": [
    "result = model.evaluate(x_test, y_test_hot)\n",
    "print('accuracy:', result[1])"
   ]
  },
  {
   "cell_type": "code",
   "execution_count": 33,
   "metadata": {},
   "outputs": [
    {
     "name": "stdout",
     "output_type": "stream",
     "text": [
      "_________________________________________________________________\n",
      "Layer (type)                 Output Shape              Param #   \n",
      "=================================================================\n",
      "first (Flatten)              (None, 6912)              0         \n",
      "_________________________________________________________________\n",
      "second (Dense)               (None, 6912)              47782656  \n",
      "_________________________________________________________________\n",
      "third (Dense)                (None, 3456)              23891328  \n",
      "_________________________________________________________________\n",
      "fourth (Dense)               (None, 1728)              5973696   \n",
      "_________________________________________________________________\n",
      "fifth (Dense)                (None, 864)               1493856   \n",
      "_________________________________________________________________\n",
      "sixth (Dense)                (None, 432)               373680    \n",
      "_________________________________________________________________\n",
      "seventh (Dense)              (None, 6)                 2598      \n",
      "=================================================================\n",
      "Total params: 79,517,814\n",
      "Trainable params: 79,517,814\n",
      "Non-trainable params: 0\n",
      "_________________________________________________________________\n"
     ]
    }
   ],
   "source": [
    "model.summary()"
   ]
  },
  {
   "cell_type": "code",
   "execution_count": null,
   "metadata": {},
   "outputs": [],
   "source": []
  }
 ],
 "metadata": {
  "kernelspec": {
   "display_name": "Python 3",
   "language": "python",
   "name": "python3"
  },
  "language_info": {
   "codemirror_mode": {
    "name": "ipython",
    "version": 3
   },
   "file_extension": ".py",
   "mimetype": "text/x-python",
   "name": "python",
   "nbconvert_exporter": "python",
   "pygments_lexer": "ipython3",
   "version": "3.6.7"
  }
 },
 "nbformat": 4,
 "nbformat_minor": 1
}
